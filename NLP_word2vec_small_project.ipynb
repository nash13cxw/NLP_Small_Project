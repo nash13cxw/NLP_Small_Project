{
 "cells": [
  {
   "cell_type": "code",
   "execution_count": 1,
   "metadata": {
    "collapsed": true
   },
   "outputs": [],
   "source": [
    "import gensim\n",
    "from gensim.models import Word2Vec\n",
    " \n",
    "sentences = [['first', 'sentence'], ['second', 'sentence']]\n",
    "# train word2vec on the two sentences\n",
    "word2vec_model = Word2Vec(sentences, min_count=1)"
   ]
  },
  {
   "cell_type": "code",
   "execution_count": 2,
   "metadata": {
    "collapsed": true
   },
   "outputs": [],
   "source": [
    "from gensim.utils import simple_preprocess\n",
    "\n",
    "class MySentences(object): \n",
    "    def __iter__(self):\n",
    "        for i in range(reviews.shape[0]):\n",
    "            yield simple_preprocess(reviews.iloc[i,5])"
   ]
  },
  {
   "cell_type": "code",
   "execution_count": 3,
   "metadata": {
    "collapsed": true
   },
   "outputs": [],
   "source": [
    "assert gensim.models.doc2vec.FAST_VERSION > -1, \"this will be painfully slow otherwise\""
   ]
  },
  {
   "cell_type": "code",
   "execution_count": 4,
   "metadata": {},
   "outputs": [
    {
     "name": "stdout",
     "output_type": "stream",
     "text": [
      "CPU times: user 532 ms, sys: 120 ms, total: 652 ms\n",
      "Wall time: 651 ms\n"
     ]
    }
   ],
   "source": [
    "%%time\n",
    "import multiprocessing\n",
    "import os\n",
    "cores = multiprocessing.cpu_count()\n",
    "\n",
    "if not os.path.exists('models/word2vec.model'):\n",
    "    print(\"start traing word2vec model...\")\n",
    "    sentences = MySentences() # a memory-friendly iterator\n",
    "    word2vec_model = gensim.models.Word2Vec(sentences, min_count=20, size=200, workers=cores)\n",
    "    if not os.path.exists('models'):\n",
    "        os.makedirs('models')\n",
    "        word2vec_model.save('models/word2vec.model')\n",
    "    else:\n",
    "        word2vec_model.save('models/word2vec.model')\n",
    "else:\n",
    "    word2vec_model = Word2Vec.load('models/word2vec.model')"
   ]
  },
  {
   "cell_type": "code",
   "execution_count": 5,
   "metadata": {},
   "outputs": [
    {
     "data": {
      "text/plain": [
       "array([ 2.19957757,  0.1303874 ,  0.76993895,  1.86130512,  0.38299701,\n",
       "        2.66481423,  0.79277581,  1.88149822,  0.57218218, -3.54605913,\n",
       "       -0.22469309, -1.30586421,  0.5212326 , -0.57535958, -0.59420639,\n",
       "        3.25334167,  1.4650737 ,  1.28035736,  0.82891124,  0.77697062,\n",
       "        2.38035822, -4.10625601, -4.11961651,  0.37130591, -0.64479178,\n",
       "       -2.82285738, -1.14055777, -0.83161491, -1.16599643, -0.61413372,\n",
       "       -1.05099082,  0.67838413, -0.75468403,  1.04790306, -0.05666969,\n",
       "        1.76558781,  2.73904204,  0.66785055,  1.02503312,  2.69672084,\n",
       "       -1.39294088,  1.50040662, -0.90576231,  3.3353467 , -0.45345622,\n",
       "        2.24820995, -0.55223316, -0.77571374,  4.3117466 ,  1.05664134,\n",
       "       -0.16624111, -0.91447783, -0.82699937,  0.71380675, -0.47063208,\n",
       "        2.09248996,  0.56829262, -2.11069632,  0.24940495,  0.54999673,\n",
       "        2.44062018, -0.24477392, -0.88427413,  2.26198602,  3.12488508,\n",
       "       -0.50958276,  1.74143636,  0.92710787,  0.41279352, -1.59364891,\n",
       "        0.1892713 , -0.48485494, -1.24097121, -0.13306051,  0.1700784 ,\n",
       "       -1.46337116,  1.19717276,  1.00262105,  0.04242292,  0.67599171,\n",
       "       -1.46633852, -0.4582347 ,  0.23935746,  1.92841351, -0.23454502,\n",
       "        0.97445512, -3.386374  , -0.40317398,  1.50095987,  0.88810372,\n",
       "       -0.83122379,  0.91169333,  2.51394963, -1.50890625, -2.01379395,\n",
       "        0.85023183, -4.70983458, -1.5868932 , -2.78282833, -1.7551074 ,\n",
       "        0.62754148,  4.20847511, -0.58223361,  1.0709548 , -1.78007555,\n",
       "       -0.03462903, -0.72142357, -1.85369146, -1.18127275,  1.40130317,\n",
       "        1.71388471,  1.26904082, -0.1949162 ,  1.3613137 , -0.15895107,\n",
       "        3.16585016,  0.19965164, -0.07139038, -0.73578781,  0.13222073,\n",
       "        3.86232066,  1.35193968, -0.40067899,  1.60570526,  0.92383063,\n",
       "        2.05499268,  2.48876739,  0.6598475 , -0.00594727, -1.16819525,\n",
       "        1.67344797, -0.68813145,  1.74027991,  0.98619413,  0.85938573,\n",
       "        0.75575984, -0.91796112,  0.59830469, -0.05304074, -0.90548396,\n",
       "        0.59696853,  1.4260304 ,  0.03857414,  0.14301175,  0.8382076 ,\n",
       "        2.650949  , -1.33647156, -1.0087868 ,  2.77309489,  0.0807021 ,\n",
       "       -1.7084657 , -0.35872552,  0.88849151, -2.66183782, -0.26617584,\n",
       "       -0.26803285, -0.38134611, -2.29900575, -1.26437843,  1.16801119,\n",
       "       -0.27565005,  0.36673498,  0.91623592,  0.07059936,  2.65132809,\n",
       "       -1.04835343,  0.37805468, -1.87337732, -2.92757964,  1.1154052 ,\n",
       "        2.36249852, -0.18489023,  0.58642113, -0.8937912 ,  1.29714644,\n",
       "        0.53346753, -2.18881345, -2.2957139 , -2.03457689,  0.58880538,\n",
       "       -0.43300906,  0.68961287, -0.44115725, -1.75233173,  1.29839122,\n",
       "       -1.94444489, -0.29837424, -0.66965187,  0.44488791, -4.26343584,\n",
       "       -0.0715123 , -3.46060133, -0.55107594,  0.08052831, -0.078797  ,\n",
       "       -1.67754519, -1.7393142 ,  0.17692193, -1.12749946,  2.12013602], dtype=float32)"
      ]
     },
     "execution_count": 5,
     "metadata": {},
     "output_type": "execute_result"
    }
   ],
   "source": [
    "word2vec_model.wv.word_vec('movie')"
   ]
  },
  {
   "cell_type": "code",
   "execution_count": 6,
   "metadata": {},
   "outputs": [
    {
     "data": {
      "text/plain": [
       "[('lady', 0.6720629334449768),\n",
       " ('woman', 0.6658434867858887),\n",
       " ('heroine', 0.528464674949646),\n",
       " ('scientist', 0.5195192098617554),\n",
       " ('pig', 0.5170959234237671),\n",
       " ('prostitute', 0.5027141571044922),\n",
       " ('girl', 0.5025966167449951),\n",
       " ('men', 0.49005869030952454),\n",
       " ('womans', 0.4878111183643341),\n",
       " ('widow', 0.4859413802623749),\n",
       " ('ladys', 0.48377329111099243),\n",
       " ('clown', 0.48372721672058105),\n",
       " ('blond', 0.47909796237945557),\n",
       " ('mans', 0.4757753908634186),\n",
       " ('maid', 0.4747234880924225),\n",
       " ('slut', 0.4719696640968323),\n",
       " ('blonde', 0.47165828943252563),\n",
       " ('squirrel', 0.4714193344116211),\n",
       " ('singer', 0.4673435091972351),\n",
       " ('erin', 0.464555025100708)]"
      ]
     },
     "execution_count": 6,
     "metadata": {},
     "output_type": "execute_result"
    }
   ],
   "source": [
    "word2vec_model.wv.most_similar(positive=['man', 'queen'], negative=['king'], topn=20)"
   ]
  },
  {
   "cell_type": "code",
   "execution_count": null,
   "metadata": {
    "collapsed": true
   },
   "outputs": [],
   "source": []
  }
 ],
 "metadata": {
  "kernelspec": {
   "display_name": "Python 3",
   "language": "python",
   "name": "python3"
  },
  "language_info": {
   "codemirror_mode": {
    "name": "ipython",
    "version": 3
   },
   "file_extension": ".py",
   "mimetype": "text/x-python",
   "name": "python",
   "nbconvert_exporter": "python",
   "pygments_lexer": "ipython3",
   "version": "3.5.4"
  }
 },
 "nbformat": 4,
 "nbformat_minor": 2
}
